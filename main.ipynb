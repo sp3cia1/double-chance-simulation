{
 "cells": [
  {
   "cell_type": "code",
   "execution_count": 1,
   "metadata": {},
   "outputs": [],
   "source": [
    "import pandas as pd"
   ]
  },
  {
   "cell_type": "markdown",
   "metadata": {},
   "source": [
    "Step 1 :-  Clean the csv file and remove unnecessary data\n"
   ]
  },
  {
   "cell_type": "code",
   "execution_count": 2,
   "metadata": {},
   "outputs": [],
   "source": [
    "def clean_csv(input_file, output_file, columns_to_remove, columns_to_check_for_missing):\n",
    "    df = pd.read_csv(input_file)\n",
    "    df.drop(columns=columns_to_remove, inplace=True)\n",
    "    df.dropna(subset=columns_to_check_for_missing, inplace=True)\n",
    "    df.to_csv(output_file, index=False)"
   ]
  },
  {
   "cell_type": "code",
   "execution_count": 8,
   "metadata": {},
   "outputs": [],
   "source": [
    "input_file = 'PremierLeague.csv'\n",
    "output_file = 'cleanPremierLeague.csv'\n",
    "\n",
    "columns_to_remove = ['MatchID', 'MatchWeek', 'Date', 'Time', 'FullTimeHomeTeamGoals', 'FullTimeAwayTeamGoals', 'HalfTimeHomeTeamGoals', 'HalfTimeAwayTeamGoals', 'HalfTimeResult', 'Referee', 'HomeTeamShots', 'AwayTeamShots', 'HomeTeamShotsOnTarget', 'AwayTeamShotsOnTarget', 'HomeTeamCorners', 'AwayTeamCorners', 'HomeTeamFouls', 'AwayTeamFouls', 'HomeTeamYellowCards', 'AwayTeamYellowCards', 'MarketMaxHomeTeam', 'MarketMaxDraw', 'MarketMaxAwayTeam', 'MarketAvgHomeTeam', 'MarketAvgDraw', 'MarketAvgAwayTeam', 'MarketMaxOver2.5Goals', 'MarketAvgOver2.5Goals', 'MarketAvgUnder2.5Goals', 'MarketMaxUnder2.5Goals', 'HomeTeamPoints', 'AwayTeamPoints']\n",
    "columns_to_check_for_missing = ['FullTimeResult', 'B365HomeTeam', 'B365AwayTeam']\n",
    "\n",
    "# Clean the CSV file\n",
    "clean_csv(input_file, output_file, columns_to_remove, columns_to_check_for_missing)"
   ]
  },
  {
   "cell_type": "markdown",
   "metadata": {},
   "source": [
    "Step 2 :- Finding bookies favourites according to odds"
   ]
  },
  {
   "cell_type": "code",
   "execution_count": 4,
   "metadata": {},
   "outputs": [],
   "source": [
    "def findFavourites(file):\n",
    "    df = pd.read_csv(file)\n",
    "    df['Favourites'] = df.apply(lambda row: 'Home' if row['B365HomeTeam'] < row['B365AwayTeam'] else 'Away', axis = 1)\n",
    "    df.to_csv(file, index=False)\n"
   ]
  },
  {
   "cell_type": "code",
   "execution_count": 9,
   "metadata": {},
   "outputs": [],
   "source": [
    "findFavourites(output_file)"
   ]
  },
  {
   "cell_type": "markdown",
   "metadata": {},
   "source": [
    "step 3 :- Calculating profits if we only bet on favorites"
   ]
  },
  {
   "cell_type": "code",
   "execution_count": 11,
   "metadata": {},
   "outputs": [],
   "source": [
    "def calculateProfits(file):\n",
    "    df = pd.read_csv(file)\n",
    "\n",
    "    def calculateProfit(row):\n",
    "        betAmount = 100\n",
    "        if row['Favourites'] == 'Home':\n",
    "            if row['FullTimeResult'] == 'H':\n",
    "                return betAmount * row['B365HomeTeam'] - betAmount\n",
    "            else:\n",
    "                return -betAmount\n",
    "            \n",
    "        elif row['Favourites'] == 'Away':\n",
    "            if row['FullTimeResult'] == 'A':\n",
    "                return betAmount * row['B365AwayTeam'] - betAmount\n",
    "            else:\n",
    "                return -betAmount\n",
    "            \n",
    "    df['Profits'] = df.apply(calculateProfit, axis=1)\n",
    "    df.to_csv(file, index=False)\n",
    "\n",
    "calculateProfits(output_file)"
   ]
  },
  {
   "cell_type": "code",
   "execution_count": null,
   "metadata": {},
   "outputs": [],
   "source": [
    "\n"
   ]
  }
 ],
 "metadata": {
  "kernelspec": {
   "display_name": "Python 3",
   "language": "python",
   "name": "python3"
  },
  "language_info": {
   "codemirror_mode": {
    "name": "ipython",
    "version": 3
   },
   "file_extension": ".py",
   "mimetype": "text/x-python",
   "name": "python",
   "nbconvert_exporter": "python",
   "pygments_lexer": "ipython3",
   "version": "3.8.2"
  }
 },
 "nbformat": 4,
 "nbformat_minor": 2
}
