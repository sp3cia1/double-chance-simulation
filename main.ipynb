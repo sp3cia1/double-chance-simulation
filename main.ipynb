{
 "cells": [
  {
   "cell_type": "code",
   "execution_count": 1,
   "metadata": {},
   "outputs": [],
   "source": [
    "import pandas as pd"
   ]
  },
  {
   "cell_type": "markdown",
   "metadata": {},
   "source": [
    "Step 1 :-  Clean the csv file and remove unnecessary data\n"
   ]
  },
  {
   "cell_type": "code",
   "execution_count": 2,
   "metadata": {},
   "outputs": [],
   "source": [
    "def clean_csv(input_file, output_file, columns_to_remove, columns_to_check_for_missing):\n",
    "    df = pd.read_csv(input_file)\n",
    "    df.drop(columns=columns_to_remove, inplace=True)\n",
    "    df.dropna(subset=columns_to_check_for_missing, inplace=True)\n",
    "    df.to_csv(output_file, index=False)"
   ]
  },
  {
   "cell_type": "code",
   "execution_count": 23,
   "metadata": {},
   "outputs": [],
   "source": [
    "input_file = 'PremierLeague.csv'\n",
    "output_file = 'cleanPremierLeague.csv'\n",
    "\n",
    "columns_to_remove = ['MatchID', 'MatchWeek', 'Date', 'Time', 'FullTimeHomeTeamGoals', 'FullTimeAwayTeamGoals', 'HalfTimeHomeTeamGoals', 'HalfTimeAwayTeamGoals', 'HalfTimeResult', 'Referee', 'HomeTeamShots', 'AwayTeamShots', 'HomeTeamShotsOnTarget', 'AwayTeamShotsOnTarget', 'HomeTeamCorners', 'AwayTeamCorners', 'HomeTeamFouls', 'AwayTeamFouls', 'HomeTeamYellowCards', 'AwayTeamYellowCards', 'MarketMaxHomeTeam', 'MarketMaxDraw', 'MarketMaxAwayTeam', 'MarketAvgHomeTeam', 'MarketAvgDraw', 'MarketAvgAwayTeam', 'MarketMaxOver2.5Goals', 'MarketAvgOver2.5Goals', 'MarketAvgUnder2.5Goals', 'MarketMaxUnder2.5Goals', 'HomeTeamPoints', 'AwayTeamPoints']\n",
    "columns_to_check_for_missing = ['FullTimeResult', 'B365HomeTeam', 'B365AwayTeam']\n",
    "\n",
    "# Clean the CSV file\n",
    "clean_csv(input_file, output_file, columns_to_remove, columns_to_check_for_missing)"
   ]
  },
  {
   "cell_type": "markdown",
   "metadata": {},
   "source": [
    "Step 2 :- Finding bookies favourites according to odds"
   ]
  },
  {
   "cell_type": "code",
   "execution_count": 24,
   "metadata": {},
   "outputs": [],
   "source": [
    "def findFavourites(file):\n",
    "    df = pd.read_csv(file)\n",
    "    df['Favourites'] = df.apply(lambda row: 'Home' if row['B365HomeTeam'] < row['B365AwayTeam'] else 'Away', axis = 1)\n",
    "    df.to_csv(file, index=False)\n"
   ]
  },
  {
   "cell_type": "code",
   "execution_count": 25,
   "metadata": {},
   "outputs": [],
   "source": [
    "findFavourites(output_file)"
   ]
  },
  {
   "cell_type": "markdown",
   "metadata": {},
   "source": [
    "step 3 :- Calculating profits if we only bet on favorites"
   ]
  },
  {
   "cell_type": "code",
   "execution_count": 26,
   "metadata": {},
   "outputs": [],
   "source": [
    "def calculateProfitsOnFavourites(file):\n",
    "    df = pd.read_csv(file)\n",
    "\n",
    "    def calculateProfit(row):\n",
    "        betAmount = 100\n",
    "        if row['Favourites'] == 'Home':\n",
    "            if row['FullTimeResult'] == 'H':\n",
    "                return betAmount * row['B365HomeTeam'] - betAmount\n",
    "            else:\n",
    "                return -betAmount\n",
    "            \n",
    "        elif row['Favourites'] == 'Away':\n",
    "            if row['FullTimeResult'] == 'A':\n",
    "                return betAmount * row['B365AwayTeam'] - betAmount\n",
    "            else:\n",
    "                return -betAmount\n",
    "            \n",
    "    df['ROIonFavourites'] = df.apply(calculateProfit, axis=1)\n",
    "    df.to_csv(file, index=False)\n",
    "\n",
    "calculateProfitsOnFavourites(output_file)"
   ]
  },
  {
   "cell_type": "code",
   "execution_count": 27,
   "metadata": {},
   "outputs": [
    {
     "name": "stdout",
     "output_type": "stream",
     "text": [
      "         Season     HomeTeam       AwayTeam FullTimeResult  HomeTeamRedCards  \\\n",
      "0     2002-2003    Blackburn     Sunderland              D               0.0   \n",
      "1     2002-2003     Charlton        Chelsea              A               1.0   \n",
      "2     2002-2003      Everton      Tottenham              D               0.0   \n",
      "3     2002-2003       Fulham         Bolton              H               0.0   \n",
      "4     2002-2003        Leeds       Man City              H               0.0   \n",
      "...         ...          ...            ...            ...               ...   \n",
      "8425  2024-2025     West Ham        Ipswich              H               0.0   \n",
      "8426  2024-2025      Everton      Newcastle              D               0.0   \n",
      "8427  2024-2025  Aston Villa     Man United              D               0.0   \n",
      "8428  2024-2025      Chelsea  Nott'm Forest              D               0.0   \n",
      "8429  2024-2025     Brighton      Tottenham              H               0.0   \n",
      "\n",
      "      AwayTeamRedCards  B365HomeTeam  B365Draw  B365AwayTeam  \\\n",
      "0                  0.0         1.727      3.25         4.333   \n",
      "1                  0.0         2.800      3.25         2.200   \n",
      "2                  0.0         2.250      3.25         2.750   \n",
      "3                  0.0         1.727      3.25         4.333   \n",
      "4                  0.0         1.667      3.40         4.500   \n",
      "...                ...           ...       ...           ...   \n",
      "8425               0.0         1.800      3.80         4.330   \n",
      "8426               0.0         3.200      3.60         2.200   \n",
      "8427               0.0         2.200      3.75         3.000   \n",
      "8428               1.0         1.480      4.50         6.500   \n",
      "8429               0.0         2.900      4.00         2.200   \n",
      "\n",
      "      B365Over2.5Goals  B365Under2.5Goals Favourites  ROIonFavourites  \n",
      "0                  NaN                NaN       Home           -100.0  \n",
      "1                  NaN                NaN       Away            120.0  \n",
      "2                  NaN                NaN       Home           -100.0  \n",
      "3                  NaN                NaN       Home             72.7  \n",
      "4                  NaN                NaN       Home             66.7  \n",
      "...                ...                ...        ...              ...  \n",
      "8425              1.67               2.20       Home             80.0  \n",
      "8426              1.67               2.20       Away           -100.0  \n",
      "8427              1.53               2.50       Home           -100.0  \n",
      "8428              1.57               2.38       Home           -100.0  \n",
      "8429              1.40               3.00       Away           -100.0  \n",
      "\n",
      "[8430 rows x 13 columns]\n"
     ]
    }
   ],
   "source": [
    "\n",
    "df=pd.read_csv(output_file)\n",
    "print(df)"
   ]
  },
  {
   "cell_type": "code",
   "execution_count": 28,
   "metadata": {},
   "outputs": [
    {
     "name": "stdout",
     "output_type": "stream",
     "text": [
      "Your ROI if you always placed bets on the bookies favourite.\n",
      "Total Amount Bet:  843000\n",
      "Net Profit:  -26164.899999999998\n",
      "Return On Investment: -3.10%\n"
     ]
    }
   ],
   "source": [
    "totalAmountBet = len(df)*100\n",
    "netProfit = df['ROIonFavourites'].sum()\n",
    "roi = (netProfit/totalAmountBet) * 100\n",
    "\n",
    "print(\"Your ROI if you always placed bets on the bookies favourite.\")\n",
    "\n",
    "print(\"Total Amount Bet: \", totalAmountBet)\n",
    "print(\"Net Profit: \", netProfit)\n",
    "print(f\"Return On Investment: {roi:.2f}%\")"
   ]
  },
  {
   "cell_type": "markdown",
   "metadata": {},
   "source": [
    "Step 4:- Calculating ROI on Underdogs"
   ]
  },
  {
   "cell_type": "code",
   "execution_count": 29,
   "metadata": {},
   "outputs": [],
   "source": [
    "def calculateProfitsOnUnderdogs(file):\n",
    "    df = pd.read_csv(file)\n",
    "\n",
    "    def calculateProfit(row):\n",
    "        betAmount = 100\n",
    "        if row['Favourites'] == 'Home':\n",
    "            if row['FullTimeResult'] == 'A':\n",
    "                return betAmount * row['B365AwayTeam'] - betAmount\n",
    "            else:\n",
    "                return -betAmount\n",
    "            \n",
    "        elif row['Favourites'] == 'Away':\n",
    "            if row['FullTimeResult'] == 'H':\n",
    "                return betAmount * row['B365HomeTeam'] - betAmount\n",
    "            else:\n",
    "                return -betAmount\n",
    "            \n",
    "    df['ROIonUnderdogs'] = df.apply(calculateProfit, axis=1)\n",
    "    df.to_csv(file, index=False)\n",
    "\n",
    "calculateProfitsOnUnderdogs(output_file)"
   ]
  },
  {
   "cell_type": "code",
   "execution_count": 32,
   "metadata": {},
   "outputs": [
    {
     "name": "stdout",
     "output_type": "stream",
     "text": [
      "Your ROI if you always placed bets on the underdogs.\n",
      "Total Amount Bet:  843000\n",
      "Net Profit:  -80084.9\n",
      "Return On Investment: -9.50%\n"
     ]
    }
   ],
   "source": [
    "df = pd.read_csv(output_file)\n",
    "\n",
    "totalAmountBet = len(df)*100\n",
    "netProfit = df['ROIonUnderdogs'].sum()\n",
    "roi = (netProfit/totalAmountBet) * 100\n",
    "\n",
    "print(\"Your ROI if you always placed bets on the underdogs.\")\n",
    "\n",
    "print(\"Total Amount Bet: \", totalAmountBet)\n",
    "print(\"Net Profit: \", netProfit)\n",
    "print(f\"Return On Investment: {roi:.2f}%\")"
   ]
  },
  {
   "cell_type": "markdown",
   "metadata": {},
   "source": [
    "Step 5 : Calculating ROI when only betting Odds"
   ]
  },
  {
   "cell_type": "code",
   "execution_count": 33,
   "metadata": {},
   "outputs": [],
   "source": [
    "def calculateProfitsOnDraws(file):\n",
    "    df = pd.read_csv(file)\n",
    "\n",
    "    def calculateProfit(row):\n",
    "        betAmount = 100\n",
    "        if row['FullTimeResult'] == 'D':\n",
    "            return betAmount * row['B365Draw'] - betAmount\n",
    "        else:\n",
    "            return -betAmount\n",
    "            \n",
    "    df['ROIonDraws'] = df.apply(calculateProfit, axis=1)\n",
    "    df.to_csv(file, index=False)\n",
    "\n",
    "calculateProfitsOnDraws(output_file)"
   ]
  },
  {
   "cell_type": "code",
   "execution_count": 35,
   "metadata": {},
   "outputs": [
    {
     "name": "stdout",
     "output_type": "stream",
     "text": [
      "Your ROI if you always placed bets on noone wining.\n",
      "Total Amount Bet:  843000\n",
      "Net Profit:  -65889.5\n",
      "Return On Investment: -7.82%\n"
     ]
    }
   ],
   "source": [
    "df = pd.read_csv(output_file)\n",
    "\n",
    "totalAmountBet = len(df)*100\n",
    "netProfit = df['ROIonDraws'].sum()\n",
    "roi = (netProfit/totalAmountBet) * 100\n",
    "\n",
    "print(\"Your ROI if you always placed bets on noone wining.\")\n",
    "\n",
    "print(\"Total Amount Bet: \", totalAmountBet)\n",
    "print(\"Net Profit: \", netProfit)\n",
    "print(f\"Return On Investment: {roi:.2f}%\")"
   ]
  },
  {
   "cell_type": "markdown",
   "metadata": {},
   "source": [
    "As Expected the safer bets i.e betting on Favourites was safer but that still resulted in overall loss of money :(. Lets see what happens if we bet on even safer bets, i.e betting on double chance bets where you select two of these outcomes, meaning you win the bet if either of your chosen outcomes occurs. The formula for calculating odds for double chance is (1/(probability of outcome 1 + probability of outcome 2)).\n",
    "\n",
    "Step 6:- Calculating FavouriteX (Favourites to either win or draw) odds and then calculating its ROI."
   ]
  },
  {
   "cell_type": "code",
   "execution_count": 37,
   "metadata": {},
   "outputs": [],
   "source": [
    "def calculateFavoriteXOdds(file):\n",
    "    df = pd.read_csv(file)\n",
    "\n",
    "    def calculateDoubleChanceOdds(row):\n",
    "        if row['Favourites'] == 'Home':\n",
    "            oddsFav = row['B365HomeTeam']\n",
    "        elif row['Favourites'] == 'Away':\n",
    "            oddsFav = row['B365AwayTeam']\n",
    "        else:\n",
    "            return None\n",
    "        \n",
    "        oddsDraw = row['B365Draw']\n",
    "\n",
    "        doubleChanceOdds = 1 / ((1/oddsFav) + (1/oddsDraw))\n",
    "        return doubleChanceOdds\n",
    "    \n",
    "    df['FavouriteXOdds'] = df.apply(calculateDoubleChanceOdds, axis=1)\n",
    "    df.to_csv(file, index=False)\n",
    "\n",
    "calculateFavoriteXOdds(output_file)"
   ]
  },
  {
   "cell_type": "code",
   "execution_count": 40,
   "metadata": {},
   "outputs": [],
   "source": [
    "def calculateProfitsOnFavouriteX(file):\n",
    "    df = pd.read_csv(file)\n",
    "\n",
    "    def calculateProfit(row):\n",
    "        betAmount = 100\n",
    "        if row['Favourites'] == 'Home':\n",
    "            if (row['FullTimeResult'] == 'H') or (row['FullTimeResult'] == 'D'):\n",
    "                return betAmount * row['FavouriteXOdds'] - betAmount\n",
    "            else:\n",
    "                return -betAmount\n",
    "            \n",
    "        elif row['Favourites'] == 'Away' :\n",
    "            if row['FullTimeResult'] == 'A' or row['FullTimeResult'] == 'D':\n",
    "                return betAmount * row['FavouriteXOdds'] - betAmount\n",
    "            else:\n",
    "                return -betAmount\n",
    "            \n",
    "    df['ROIonFavouriteX'] = df.apply(calculateProfit, axis=1)\n",
    "    df.to_csv(file, index=False)\n",
    "\n",
    "calculateProfitsOnFavouriteX(output_file)"
   ]
  },
  {
   "cell_type": "code",
   "execution_count": 41,
   "metadata": {},
   "outputs": [
    {
     "name": "stdout",
     "output_type": "stream",
     "text": [
      "Your ROI if you always placed bets on the Favourite winning or atleast drawing.\n",
      "Total Amount Bet:  843000\n",
      "Net Profit:  -34396.39985201236\n",
      "Return On Investment: -4.08%\n"
     ]
    }
   ],
   "source": [
    "df = pd.read_csv(output_file)\n",
    "\n",
    "totalAmountBet = len(df)*100\n",
    "netProfit = df['ROIonFavouriteX'].sum()\n",
    "roi = (netProfit/totalAmountBet) * 100\n",
    "\n",
    "print(\"Your ROI if you always placed bets on the Favourite winning or atleast drawing.\")\n",
    "\n",
    "print(\"Total Amount Bet: \", totalAmountBet)\n",
    "print(\"Net Profit: \", netProfit)\n",
    "print(f\"Return On Investment: {roi:.2f}%\")"
   ]
  },
  {
   "cell_type": "code",
   "execution_count": null,
   "metadata": {},
   "outputs": [],
   "source": []
  }
 ],
 "metadata": {
  "kernelspec": {
   "display_name": "Python 3",
   "language": "python",
   "name": "python3"
  },
  "language_info": {
   "codemirror_mode": {
    "name": "ipython",
    "version": 3
   },
   "file_extension": ".py",
   "mimetype": "text/x-python",
   "name": "python",
   "nbconvert_exporter": "python",
   "pygments_lexer": "ipython3",
   "version": "3.8.2"
  }
 },
 "nbformat": 4,
 "nbformat_minor": 2
}
