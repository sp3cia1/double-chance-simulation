{
 "cells": [
  {
   "cell_type": "code",
   "execution_count": 1,
   "metadata": {},
   "outputs": [],
   "source": [
    "import pandas as pd"
   ]
  },
  {
   "cell_type": "markdown",
   "metadata": {},
   "source": [
    "Step 1 :-  Clean the csv file and remove unnecessary data\n"
   ]
  },
  {
   "cell_type": "code",
   "execution_count": 2,
   "metadata": {},
   "outputs": [],
   "source": [
    "def clean_csv(input_file, output_file, columns_to_remove, columns_to_check_for_missing):\n",
    "    df = pd.read_csv(input_file)\n",
    "    df.drop(columns=columns_to_remove, inplace=True)\n",
    "    df.dropna(subset=columns_to_check_for_missing, inplace=True)\n",
    "    df.to_csv(output_file, index=False)"
   ]
  },
  {
   "cell_type": "code",
   "execution_count": null,
   "metadata": {},
   "outputs": [],
   "source": [
    "input_file = 'PremierLeague.csv'\n",
    "output_file = 'cleanPremierLeague.csv'\n",
    "\n",
    "columns_to_remove = ['MatchID', 'MatchWeek', 'Date', 'Time', 'FullTimeHomeTeamGoals', 'FullTimeHomeTeamGoals', 'HalfTimeHomeTeamGoals', 'HalfTimeAwayTeamGoals', 'HalfTimeResult', 'Referee', 'HomeTeamShots', 'AwayTeamShots', 'HomeTeamShotsOnTarget', 'AwayTeamShotsOnTarget', 'HomeTeamCorners', 'AwayTeamCorners', 'HomeTeamFouls', 'AwayTeamFouls', 'HomeTeamYellowCards', 'AwayTeamYellowCards', 'MarketMaxHomeTeam', 'MarketMaxDraw', 'MarketMaxAwayTeam', 'MarketAvgHomeTeam', 'MarketAvgDraw', 'MarketAvgAwayTeam', 'MarketMaxOver2.5Goals', 'MarketAvgOver2.5Goals', 'MarketAvgUnder2.5Goals', 'MarketMaxUnder2.5Goals', 'HomeTeamPoints', 'AwayTeamPoints']\n",
    "columns_to_check_for_missing = ['FullTimeResult', 'B365HomeTeam', 'B365AwayTeam']\n",
    "\n",
    "# Clean the CSV file\n",
    "clean_csv(input_file, output_file, columns_to_remove, columns_to_check_for_missing)"
   ]
  }
 ],
 "metadata": {
  "kernelspec": {
   "display_name": "Python 3",
   "language": "python",
   "name": "python3"
  },
  "language_info": {
   "codemirror_mode": {
    "name": "ipython",
    "version": 3
   },
   "file_extension": ".py",
   "mimetype": "text/x-python",
   "name": "python",
   "nbconvert_exporter": "python",
   "pygments_lexer": "ipython3",
   "version": "3.8.2"
  }
 },
 "nbformat": 4,
 "nbformat_minor": 2
}
